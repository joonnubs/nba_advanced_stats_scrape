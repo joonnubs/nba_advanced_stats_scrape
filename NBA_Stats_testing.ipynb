{
 "cells": [
  {
   "cell_type": "code",
   "execution_count": 1,
   "metadata": {},
   "outputs": [],
   "source": [
    "import requests\n",
    "from bs4 import BeautifulSoup\n",
    "import pandas as pd"
   ]
  },
  {
   "cell_type": "code",
   "execution_count": 2,
   "metadata": {},
   "outputs": [],
   "source": [
    "header = {\n",
    "\"Accept\": \"application/json, text/plain, */*\",\n",
    "\"Accept-Encoding\": \"gzip, deflate, br\",\n",
    "\"Accept-Language\": \"en-US,en;q=0.9\",\n",
    "\"Cache-Control\": \"no-cache\",\n",
    "\"Connection\": \"keep-alive\",\n",
    "\"Host\": \"stats.nba.com\",\n",
    "\"Origin\": \"https://www.nba.com\",\n",
    "\"Pragma\": \"no-cache\",\n",
    "\"Referer\": \"https://www.nba.com/\",\n",
    "\"sec-ch-ua\": \"'Google Chrome';v='95', 'Chromium';v='95', ';Not A Brand';v='99'\",\n",
    "\"sec-ch-ua-mobile\": \"?0\",\n",
    "\"sec-ch-ua-platform\": \"Windows\",\n",
    "\"Sec-Fetch-Dest\": \"empty\",\n",
    "\"Sec-Fetch-Mode\": \"cors\",\n",
    "\"Sec-Fetch-Site\": \"same-site\",\n",
    "\"User-Agent\": \"Mozilla/5.0 (Windows NT 10.0; Win64; x64) AppleWebKit/537.36 (KHTML, like Gecko) Chrome/95.0.4638.69 Safari/537.36\",\n",
    "\"x-nba-stats-origin\": \"stats\",\n",
    "\"x-nba-stats-token\": \"true\"}\n"
   ]
  },
  {
   "cell_type": "code",
   "execution_count": 3,
   "metadata": {},
   "outputs": [],
   "source": [
    "params =(\n",
    "(\"College\", \"\"),\n",
    "(\"Conference\", \"\"),\n",
    "(\"Country\", \"\"),\n",
    "(\"DateFrom\", \"\"),\n",
    "(\"DateTo\", \"\"),\n",
    "(\"Division\", \"\"),\n",
    "(\"DraftPick\", \"\"),\n",
    "(\"DraftYear\", \"\"),\n",
    "(\"GameScope\", \"\"),\n",
    "(\"GameSegment\", \"\"),\n",
    "(\"Height\", \"\"),\n",
    "(\"LastNGames\", \"0\"),\n",
    "(\"LeagueID\", \"00\"),\n",
    "(\"Location\", \"\"),\n",
    "(\"MeasureType\", \"Advanced\"),\n",
    "(\"Month\", \"0\"),\n",
    "(\"OpponentTeamID\", \"0\"),\n",
    "(\"Outcome\", \"\"),\n",
    "(\"PORound\", \"0\"),\n",
    "(\"PaceAdjust\", \"N\"),\n",
    "(\"PerMode\", \"PerGame\"),\n",
    "(\"Period\", \"0\"),\n",
    "(\"PlayerExperience\", \"\"),\n",
    "(\"PlayerPosition\", \"\"),\n",
    "(\"PlusMinus\", \"N\"),\n",
    "(\"Rank\", \"N\"),\n",
    "(\"Season\", \"2021-22\"),\n",
    "(\"SeasonSegment\", \"\"),\n",
    "(\"SeasonType\", \"Regular Season\"),\n",
    "(\"ShotClockRange\", \"\"),\n",
    "(\"StarterBench\", \"\" ),\n",
    "(\"TeamID\", \"0\"),\n",
    "(\"TwoWay\", \"0\"),\n",
    "(\"VsConference\", \"\"),\n",
    "(\"VsDivision\", \"\"),\n",
    "(\"Weight\", \"\"))"
   ]
  },
  {
   "cell_type": "code",
   "execution_count": 4,
   "metadata": {},
   "outputs": [],
   "source": [
    "url = 'https://stats.nba.com/stats/leaguedashplayerstats?'"
   ]
  },
  {
   "cell_type": "code",
   "execution_count": 48,
   "metadata": {},
   "outputs": [],
   "source": [
    "test_url = 'https://stats.nba.com/stats/leaguedashplayerstats?College=&Conference=&Country=&DateFrom=&DateTo=&Division=&DraftPick=&DraftYear=&GameScope=&GameSegment=&Height=&LastNGames=0&LeagueID=00&Location=&MeasureType=Advanced&Month=0&OpponentTeamID=0&Outcome=&PORound=0&PaceAdjust=N&PerMode=PerGame&Period=0&PlayerExperience=&PlayerPosition=&PlusMinus=N&Rank=N&Season=2021-22&SeasonSegment=&SeasonType=Regular+Season&ShotClockRange=&StarterBench=&TeamID=0&TwoWay=0&VsConference=&VsDivision=&Weight='\n",
    "test_url = 'https://stats.nba.com/stats/leaguedashplayerstats?College=&Conference=&Country=&DateFrom=&DateTo=&Division=&DraftPick=&DraftYear=&GameScope=&GameSegment=&Height=&LastNGames=0&LeagueID=00&Location=&MeasureType=Misc&Month=0&OpponentTeamID=0&Outcome=&PORound=0&PaceAdjust=N&PerMode=PerGame&Period=0&PlayerExperience=&PlayerPosition=&PlusMinus=N&Rank=N&Season=2021-22&SeasonSegment=&SeasonType=Regular+Season&ShotClockRange=&StarterBench=&TeamID=0&TwoWay=0&VsConference=&VsDivision=&Weight='"
   ]
  },
  {
   "cell_type": "code",
   "execution_count": 52,
   "metadata": {},
   "outputs": [],
   "source": [
    "test_parsed_url = urlparse(test_url)\n",
    "test_param = parse_qs(test_parsed_url.query, keep_blank_values=True)"
   ]
  },
  {
   "cell_type": "code",
   "execution_count": 51,
   "metadata": {},
   "outputs": [
    {
     "data": {
      "text/plain": [
       "ParseResult(scheme='https', netloc='stats.nba.com', path='/stats/leaguedashplayerstats', params='', query='College=&Conference=&Country=&DateFrom=&DateTo=&Division=&DraftPick=&DraftYear=&GameScope=&GameSegment=&Height=&LastNGames=0&LeagueID=00&Location=&MeasureType=Advanced&Month=0&OpponentTeamID=0&Outcome=&PORound=0&PaceAdjust=N&PerMode=PerGame&Period=0&PlayerExperience=&PlayerPosition=&PlusMinus=N&Rank=N&Season=2021-22&SeasonSegment=&SeasonType=Regular+Season&ShotClockRange=&StarterBench=&TeamID=0&TwoWay=0&VsConference=&VsDivision=&Weight=', fragment='')"
      ]
     },
     "execution_count": 51,
     "metadata": {},
     "output_type": "execute_result"
    }
   ],
   "source": [
    "test_parsed_url"
   ]
  },
  {
   "cell_type": "code",
   "execution_count": 53,
   "metadata": {},
   "outputs": [
    {
     "data": {
      "text/plain": [
       "{'College': [''],\n",
       " 'Conference': [''],\n",
       " 'Country': [''],\n",
       " 'DateFrom': [''],\n",
       " 'DateTo': [''],\n",
       " 'Division': [''],\n",
       " 'DraftPick': [''],\n",
       " 'DraftYear': [''],\n",
       " 'GameScope': [''],\n",
       " 'GameSegment': [''],\n",
       " 'Height': [''],\n",
       " 'LastNGames': ['0'],\n",
       " 'LeagueID': ['00'],\n",
       " 'Location': [''],\n",
       " 'MeasureType': ['Advanced'],\n",
       " 'Month': ['0'],\n",
       " 'OpponentTeamID': ['0'],\n",
       " 'Outcome': [''],\n",
       " 'PORound': ['0'],\n",
       " 'PaceAdjust': ['N'],\n",
       " 'PerMode': ['PerGame'],\n",
       " 'Period': ['0'],\n",
       " 'PlayerExperience': [''],\n",
       " 'PlayerPosition': [''],\n",
       " 'PlusMinus': ['N'],\n",
       " 'Rank': ['N'],\n",
       " 'Season': ['2021-22'],\n",
       " 'SeasonSegment': [''],\n",
       " 'SeasonType': ['Regular Season'],\n",
       " 'ShotClockRange': [''],\n",
       " 'StarterBench': [''],\n",
       " 'TeamID': ['0'],\n",
       " 'TwoWay': ['0'],\n",
       " 'VsConference': [''],\n",
       " 'VsDivision': [''],\n",
       " 'Weight': ['']}"
      ]
     },
     "execution_count": 53,
     "metadata": {},
     "output_type": "execute_result"
    }
   ],
   "source": [
    "test_param"
   ]
  },
  {
   "cell_type": "code",
   "execution_count": 44,
   "metadata": {},
   "outputs": [],
   "source": [
    "test = list(test_param.items())"
   ]
  },
  {
   "cell_type": "code",
   "execution_count": 46,
   "metadata": {},
   "outputs": [
    {
     "data": {
      "text/plain": [
       "[('College', ['']),\n",
       " ('Conference', ['']),\n",
       " ('Country', ['']),\n",
       " ('DateFrom', ['']),\n",
       " ('DateTo', ['']),\n",
       " ('Division', ['']),\n",
       " ('DraftPick', ['']),\n",
       " ('DraftYear', ['']),\n",
       " ('GameScope', ['']),\n",
       " ('Height', ['']),\n",
       " ('LastNGames', ['0']),\n",
       " ('LeagueID', ['00']),\n",
       " ('Location', ['']),\n",
       " ('Month', ['0']),\n",
       " ('OpponentTeamID', ['0']),\n",
       " ('Outcome', ['']),\n",
       " ('PORound', ['0']),\n",
       " ('PerMode', ['PerGame']),\n",
       " ('PlayerExperience', ['']),\n",
       " ('PlayerOrTeam', ['Player']),\n",
       " ('PlayerPosition', ['']),\n",
       " ('PtMeasureType', ['Drives']),\n",
       " ('Season', ['2021-22']),\n",
       " ('SeasonSegment', ['']),\n",
       " ('SeasonType', ['Regular Season']),\n",
       " ('StarterBench', ['']),\n",
       " ('TeamID', ['0']),\n",
       " ('VsConference', ['']),\n",
       " ('VsDivision', ['']),\n",
       " ('Weight', [''])]"
      ]
     },
     "execution_count": 46,
     "metadata": {},
     "output_type": "execute_result"
    }
   ],
   "source": [
    "test"
   ]
  },
  {
   "cell_type": "code",
   "execution_count": 41,
   "metadata": {},
   "outputs": [
    {
     "data": {
      "text/plain": [
       "(('College', ''),\n",
       " ('Conference', ''),\n",
       " ('Country', ''),\n",
       " ('DateFrom', ''),\n",
       " ('DateTo', ''),\n",
       " ('Division', ''),\n",
       " ('DraftPick', ''),\n",
       " ('DraftYear', ''),\n",
       " ('GameScope', ''),\n",
       " ('GameSegment', ''),\n",
       " ('Height', ''),\n",
       " ('LastNGames', '0'),\n",
       " ('LeagueID', '00'),\n",
       " ('Location', ''),\n",
       " ('MeasureType', 'Advanced'),\n",
       " ('Month', '0'),\n",
       " ('OpponentTeamID', '0'),\n",
       " ('Outcome', ''),\n",
       " ('PORound', '0'),\n",
       " ('PaceAdjust', 'N'),\n",
       " ('PerMode', 'PerGame'),\n",
       " ('Period', '0'),\n",
       " ('PlayerExperience', ''),\n",
       " ('PlayerPosition', ''),\n",
       " ('PlusMinus', 'N'),\n",
       " ('Rank', 'N'),\n",
       " ('Season', '2021-22'),\n",
       " ('SeasonSegment', ''),\n",
       " ('SeasonType', 'Regular Season'),\n",
       " ('ShotClockRange', ''),\n",
       " ('StarterBench', ''),\n",
       " ('TeamID', '0'),\n",
       " ('TwoWay', '0'),\n",
       " ('VsConference', ''),\n",
       " ('VsDivision', ''),\n",
       " ('Weight', ''))"
      ]
     },
     "execution_count": 41,
     "metadata": {},
     "output_type": "execute_result"
    }
   ],
   "source": [
    "params"
   ]
  },
  {
   "cell_type": "code",
   "execution_count": 54,
   "metadata": {},
   "outputs": [],
   "source": [
    "response = requests.get(url, headers=header, params = test_param)\n",
    "response_json = response.json()\n",
    "frame = pd.DataFrame(response_json['resultSets'][0]['rowSet'])\n",
    "frame.columns = response_json['resultSets'][0]['headers']\n"
   ]
  },
  {
   "cell_type": "code",
   "execution_count": 7,
   "metadata": {},
   "outputs": [
    {
     "name": "stdout",
     "output_type": "stream",
     "text": [
      "     PLAYER_ID      PLAYER_NAME NICKNAME     TEAM_ID TEAM_ABBREVIATION   AGE  \\\n",
      "0       203932     Aaron Gordon    Aaron  1610612743               DEN  26.0   \n",
      "1      1630565      Aaron Henry    Aaron  1610612755               PHI  22.0   \n",
      "2      1628988    Aaron Holiday    Aaron  1610612764               WAS  25.0   \n",
      "3      1630174    Aaron Nesmith    Aaron  1610612738               BOS  22.0   \n",
      "4      1630598    Aaron Wiggins    Aaron  1610612760               OKC  22.0   \n",
      "..         ...              ...      ...         ...               ...   ...   \n",
      "453    1630214   Xavier Tillman   Xavier  1610612763               MEM  22.0   \n",
      "454    1630582        Yves Pons     Yves  1610612763               MEM  22.0   \n",
      "455     203897      Zach LaVine     Zach  1610612741               CHI  26.0   \n",
      "456    1630192       Zeke Nnaji     Zeke  1610612743               DEN  20.0   \n",
      "457    1630533  Ziaire Williams   Ziaire  1610612763               MEM  20.0   \n",
      "\n",
      "     GP   W  L  W_PCT  ...  PACE_RANK  sp_work_PACE_RANK  PIE_RANK  FGM_RANK  \\\n",
      "0    14   9  5  0.643  ...        423                423       199        95   \n",
      "1     1   1  0  1.000  ...          8                  8       453       427   \n",
      "2    14  10  4  0.714  ...        323                323       325       209   \n",
      "3    12   6  6  0.500  ...        261                261       398       327   \n",
      "4     3   1  2  0.333  ...        359                359       333       384   \n",
      "..   ..  .. ..    ...  ...        ...                ...       ...       ...   \n",
      "453  10   5  5  0.500  ...        432                432       156       291   \n",
      "454   1   0  1  0.000  ...        441                441       452       427   \n",
      "455  15  10  5  0.667  ...        260                260        50         3   \n",
      "456   5   4  1  0.800  ...        451                451        19       305   \n",
      "457  12   6  6  0.500  ...        209                209       418       266   \n",
      "\n",
      "     FGA_RANK  FGM_PG_RANK  FGA_PG_RANK  FG_PCT_RANK  CFID            CFPARAMS  \n",
      "0         114          106          125          105     5   203932,1610612743  \n",
      "1         427          427          409          427     5  1630565,1610612755  \n",
      "2         209          238          235          219     5  1628988,1610612764  \n",
      "3         295          373          324          408     5  1630174,1610612738  \n",
      "4         384          337          348          334     5  1630598,1610612760  \n",
      "..        ...          ...          ...          ...   ...                 ...  \n",
      "453       311          301          316          141     5  1630214,1610612763  \n",
      "454       427          427          409          427     5  1630582,1610612763  \n",
      "455         7            6           13          134     5   203897,1610612741  \n",
      "456       336          211          259           72     5  1630192,1610612743  \n",
      "457       225          288          222          382     5  1630533,1610612763  \n",
      "\n",
      "[458 rows x 80 columns]\n"
     ]
    }
   ],
   "source": [
    "print(frame)"
   ]
  },
  {
   "cell_type": "code",
   "execution_count": 10,
   "metadata": {},
   "outputs": [],
   "source": [
    "from urllib.parse import urlparse\n",
    "from urllib.parse import parse_qs"
   ]
  },
  {
   "cell_type": "code",
   "execution_count": 14,
   "metadata": {},
   "outputs": [],
   "source": [
    "full_url = 'https://stats.nba.com/stats/leaguedashptstats?College=&Conference=&Country=&DateFrom=&DateTo=&Division=&DraftPick=&DraftYear=&GameScope=&Height=&LastNGames=0&LeagueID=00&Location=&Month=0&OpponentTeamID=0&Outcome=&PORound=0&PerMode=PerGame&PlayerExperience=&PlayerOrTeam=Player&PlayerPosition=&PtMeasureType=Drives&Season=2021-22&SeasonSegment=&SeasonType=Regular+Season&StarterBench=&TeamID=0&VsConference=&VsDivision=&Weight='"
   ]
  },
  {
   "cell_type": "code",
   "execution_count": 15,
   "metadata": {},
   "outputs": [],
   "source": [
    "parsed_url = urlparse(full_url)\n"
   ]
  },
  {
   "cell_type": "code",
   "execution_count": 16,
   "metadata": {},
   "outputs": [
    {
     "data": {
      "text/plain": [
       "ParseResult(scheme='https', netloc='stats.nba.com', path='/stats/leaguedashptstats', params='', query='College=&Conference=&Country=&DateFrom=&DateTo=&Division=&DraftPick=&DraftYear=&GameScope=&Height=&LastNGames=0&LeagueID=00&Location=&Month=0&OpponentTeamID=0&Outcome=&PORound=0&PerMode=PerGame&PlayerExperience=&PlayerOrTeam=Player&PlayerPosition=&PtMeasureType=Drives&Season=2021-22&SeasonSegment=&SeasonType=Regular+Season&StarterBench=&TeamID=0&VsConference=&VsDivision=&Weight=', fragment='')"
      ]
     },
     "execution_count": 16,
     "metadata": {},
     "output_type": "execute_result"
    }
   ],
   "source": [
    "parsed_url"
   ]
  },
  {
   "cell_type": "code",
   "execution_count": 18,
   "metadata": {},
   "outputs": [
    {
     "data": {
      "text/plain": [
       "{'LastNGames': ['0'],\n",
       " 'LeagueID': ['00'],\n",
       " 'Month': ['0'],\n",
       " 'OpponentTeamID': ['0'],\n",
       " 'PORound': ['0'],\n",
       " 'PerMode': ['PerGame'],\n",
       " 'PlayerOrTeam': ['Player'],\n",
       " 'PtMeasureType': ['Drives'],\n",
       " 'Season': ['2021-22'],\n",
       " 'SeasonType': ['Regular Season'],\n",
       " 'TeamID': ['0']}"
      ]
     },
     "execution_count": 18,
     "metadata": {},
     "output_type": "execute_result"
    }
   ],
   "source": [
    "parse_qs(parsed_url.query)"
   ]
  }
 ],
 "metadata": {
  "kernelspec": {
   "display_name": "Python 3",
   "language": "python",
   "name": "python3"
  },
  "language_info": {
   "codemirror_mode": {
    "name": "ipython",
    "version": 3
   },
   "file_extension": ".py",
   "mimetype": "text/x-python",
   "name": "python",
   "nbconvert_exporter": "python",
   "pygments_lexer": "ipython3",
   "version": "3.8.5"
  }
 },
 "nbformat": 4,
 "nbformat_minor": 4
}
